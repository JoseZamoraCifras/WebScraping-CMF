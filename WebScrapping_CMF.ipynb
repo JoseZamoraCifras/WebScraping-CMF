{
 "cells": [
  {
   "cell_type": "markdown",
   "id": "4025eead",
   "metadata": {},
   "source": [
    "# WebScrapping CMF\n",
    "Para extraer en una tabla Excel El Balance y Estado de Resultados de cualquier empresa."
   ]
  },
  {
   "cell_type": "code",
   "execution_count": 1,
   "id": "427a14b3",
   "metadata": {
    "colab": {
     "base_uri": "https://localhost:8080/",
     "height": 374
    },
    "executionInfo": {
     "elapsed": 1336,
     "status": "error",
     "timestamp": 1680729596652,
     "user": {
      "displayName": "Jose Ignacio Zamora Cifras",
      "userId": "09012073982716104904"
     },
     "user_tz": 240
    },
    "id": "7754ad30",
    "outputId": "e357dad2-e443-4b94-a0db-97f9a4809234"
   },
   "outputs": [],
   "source": [
    "#Como siempre importamos las librerias necesarias para ejecutar nuestro codigo.\n",
    "import pandas as pd\n",
    "from selenium import webdriver\n",
    "from selenium.webdriver.common.keys import Keys\n",
    "from bs4 import BeautifulSoup\n",
    "from selenium.webdriver.common.by import By\n",
    "import time"
   ]
  },
  {
   "cell_type": "markdown",
   "id": "7b9f5267",
   "metadata": {},
   "source": [
    "En el siguiente codigo se necesitan 2 variables que debemos rescatar manualmente y son:\n",
    "- Primero buscar la empresa que queremos mirar y entrar a la pestaña fiscalizados, en este ejemplo utilizaremos a la empresa Falabella *https://www.cmfchile.cl/portal/principal/613/w3-search.php?keywords=falabella#fiscalizados* y guardaremos el link dentro de la lista __Empresa__ como un string en la posicion $[0]$. \n",
    "- En segundo lugar el rut que queremos ver, en este caso __90749000__ ojo, tambien como string, lo guardaremos en la posicion $[1]$.\n",
    "\n",
    "\n",
    "*Debe utilizar Google Chrome*\\\n",
    "*La tercera variable de la lista Empresa debemos dejarla tal como está*"
   ]
  },
  {
   "cell_type": "markdown",
   "id": "2cb7926f",
   "metadata": {},
   "source": [
    "<img src=\"https://raw.githubusercontent.com/JoseZamoraCifras/WebScrapping-CMF/main/Screenshot_2.png\">"
   ]
  },
  {
   "cell_type": "code",
   "execution_count": 2,
   "id": "0b1adc90",
   "metadata": {
    "id": "0b1adc90"
   },
   "outputs": [],
   "source": [
    "Empresa = ['https://www.cmfchile.cl/portal/principal/613/w3-search.php?keywords=falabella#fiscalizados',\"//td[text()='90749000']\",\"./following-sibling::td/a\"]\n",
    "keys = [\"Url\", \"selector1\", \"Selector2\"]"
   ]
  },
  {
   "cell_type": "markdown",
   "id": "7e92f933",
   "metadata": {},
   "source": [
    "Respecto al periodo que queremos extraer necesitaremos manipularlo en la lista __configurador__, para ello, debemos seleccionar 3 variables:\n",
    "1. Año del cual extraeremos la información.\n",
    "2. Quarter que queremos extraer.\n",
    "3. Tipo de Norma, si es Estandar IFRS o Norma Chilena, en mi experiencia o al menos en las empresas que yo he mirado, generalemnte se utiliza el Estandar IFRS, ahí deben ir probando."
   ]
  },
  {
   "cell_type": "markdown",
   "id": "a3dcb221",
   "metadata": {},
   "source": [
    "<img src=\"https://raw.githubusercontent.com/JoseZamoraCifras/WebScrapping-CMF/main/Screenshot_3.png\">"
   ]
  },
  {
   "cell_type": "markdown",
   "id": "f63d85fd",
   "metadata": {},
   "source": [
    "Solo como orientación dejo el orden de los periodos:\n",
    "- año [\"Año\" ,2023, 2022, 2021, 2020, 2019, 2018...etc]\n",
    "- Quarter [Q4, Q3, Q2, Q1]\n",
    "- Tipo Norma [\"Seleccione\", \"Estandar IFRS\", \"Norma Chilena\"]\n",
    "\n",
    "En el caso que queramos extraer el Q3 del 2021, tipo norma IFRS deberiamos usar la siguiente configuración:\n",
    "- configurador [4,1,1]"
   ]
  },
  {
   "cell_type": "code",
   "execution_count": 3,
   "id": "c1821f8d",
   "metadata": {},
   "outputs": [],
   "source": [
    "año = [\"Año\" ,2023, 2022, 2021, 2020, 2019, 2018, 2017, 2016, 2015, 2014, 2013, 2012, 20211, 2010, 2009, 2008, 2007, 2006, 2005]\n",
    "quarter = [\"Q4\", \"Q3\", \"Q2\", \"Q1\"]\n",
    "Tipo_Norma = [\"Seleccione\", \"Estandar IFRS\", \"Norma Chilena\"]\n",
    "\n",
    "\n",
    "#----------Reemplazar valores en la siguiente lista ----------------------------\n",
    "configurador = [3,1,1]"
   ]
  },
  {
   "cell_type": "markdown",
   "id": "154094a2",
   "metadata": {},
   "source": [
    "Ya nos vamos manos a la obra y empezar a manipular con Selenium"
   ]
  },
  {
   "cell_type": "code",
   "execution_count": 4,
   "id": "d731f727",
   "metadata": {
    "id": "d731f727"
   },
   "outputs": [],
   "source": [
    "# Inicializar el navegador web\n",
    "driver = webdriver.Chrome()\n",
    "\n",
    "# Cargar la página de inicio de la empresa en este ejemplo, \n",
    "driver.get(Empresa[0])\n",
    "time.sleep(2)\n",
    "td_element = driver.find_element(By.XPATH,Empresa[1])\n",
    "a_element = td_element.find_element(By.XPATH,Empresa[2])\n",
    "a_element.click()\n",
    "time.sleep(2)\n",
    "\n",
    "\n",
    "estados_financieros = driver.find_element(By.XPATH, \"//*[@id='listado_reportes']/li[3]/a\")\n",
    "estados_financieros.click()\n",
    "time.sleep(2)\n",
    "\n",
    "from selenium.webdriver.support.ui import Select\n",
    "\n",
    "periodo = driver.find_element(By.ID,'mm')\n",
    "# Crear un objeto Select a partir del elemento <select>\n",
    "select_periodo = Select(periodo)\n",
    "# Obtener todas las opciones del <select> en una lista\n",
    "base_periodo = select_periodo.options\n",
    "#--------------------------------------------------------\n",
    "año = driver.find_element(By.ID,'aa')\n",
    "# Crear un objeto Select a partir del elemento <select>\n",
    "select_año = Select(año)\n",
    "# Obtener todas las opciones del <select> en una lista\n",
    "base_año = select_año.options\n",
    "#--------------------------------------------------------\n",
    "tipo_norma = driver.find_element(By.NAME,'tipo_norma')\n",
    "# Crear un objeto Select a partir del elemento <select>\n",
    "select_tipo_norma = Select(tipo_norma)\n",
    "# Obtener todas las opciones del <select> en una lista\n",
    "base_tipo_norma = select_tipo_norma.options\n",
    "\n",
    "base_año[configurador[0]].click()\n",
    "base_periodo[configurador[1]].click()\n",
    "base_tipo_norma[configurador[2]].click()\n",
    "\n",
    "time.sleep(2)\n",
    "consulta = driver.find_element(By.XPATH, '//input[@alt=\"Consultar\"]')\n",
    "consulta.click()"
   ]
  },
  {
   "cell_type": "markdown",
   "id": "3a6ecc16",
   "metadata": {},
   "source": [
    "Bien, ya accedimos a la información, puedes ver en la pestaña emergente que se abrió con Selenium la información del Balance y Estados de resultados de Falabella para el periodo seleccionado.\\\n",
    "Ahora la parte practica es que queremos pasar la información a una tabla Excel para poder manipular la información en esa herramienta.\n",
    "\n",
    "## Primero realizamos la tabla del Balance"
   ]
  },
  {
   "cell_type": "code",
   "execution_count": 5,
   "id": "6f455d90",
   "metadata": {},
   "outputs": [],
   "source": [
    "#Ruta donde guardaremos nuestros Excel\n",
    "ruta = \"P:/Control de gestión/Reportes/2022/Flash 2.0/CMF\""
   ]
  },
  {
   "cell_type": "code",
   "execution_count": 6,
   "id": "6939adae",
   "metadata": {
    "id": "6939adae"
   },
   "outputs": [],
   "source": [
    "tabla_html = \"\"\"\n",
    "#<table>\n",
    "#    ...\n",
    "#</table>\n",
    "\"\"\"\n",
    "\n",
    "soup = BeautifulSoup(tabla_html, 'html.parser')\n",
    "tabla = soup.find('table')\n",
    "filas = tabla.find_all('tr')\n",
    "        \n",
    "tabla = driver.find_element(By.TAG_NAME,'table')\n",
    "\n",
    "encabezados = []\n",
    "for encabezado in tabla.find_elements(By.TAG_NAME,'th'):\n",
    "    encabezados.append(encabezado.text)\n",
    "datos = []\n",
    "for fila in tabla.find_elements(By.TAG_NAME,'tr'):\n",
    "    fila_datos = []\n",
    "    for celda in fila.find_elements(By.TAG_NAME,'td'):\n",
    "        fila_datos.append(celda.text)\n",
    "    if fila_datos:\n",
    "        datos.append(fila_datos)\n",
    "df = pd.DataFrame(datos, columns=encabezados)"
   ]
  },
  {
   "cell_type": "code",
   "execution_count": 9,
   "id": "6323329e",
   "metadata": {},
   "outputs": [
    {
     "data": {
      "text/html": [
       "<div>\n",
       "<style scoped>\n",
       "    .dataframe tbody tr th:only-of-type {\n",
       "        vertical-align: middle;\n",
       "    }\n",
       "\n",
       "    .dataframe tbody tr th {\n",
       "        vertical-align: top;\n",
       "    }\n",
       "\n",
       "    .dataframe thead th {\n",
       "        text-align: right;\n",
       "    }\n",
       "</style>\n",
       "<table border=\"1\" class=\"dataframe\">\n",
       "  <thead>\n",
       "    <tr style=\"text-align: right;\">\n",
       "      <th></th>\n",
       "      <th>.</th>\n",
       "      <th>2021-06-30</th>\n",
       "      <th>2020-12-31</th>\n",
       "      <th>2020-06-30</th>\n",
       "    </tr>\n",
       "  </thead>\n",
       "  <tbody>\n",
       "    <tr>\n",
       "      <th>0</th>\n",
       "      <td>Activos [sinopsis]</td>\n",
       "      <td>None</td>\n",
       "      <td>None</td>\n",
       "      <td>None</td>\n",
       "    </tr>\n",
       "    <tr>\n",
       "      <th>1</th>\n",
       "      <td>Negocios no bancarios [sinopsis]</td>\n",
       "      <td>None</td>\n",
       "      <td>None</td>\n",
       "      <td>None</td>\n",
       "    </tr>\n",
       "    <tr>\n",
       "      <th>2</th>\n",
       "      <td>Activos corrientes [sinopsis]</td>\n",
       "      <td>None</td>\n",
       "      <td>None</td>\n",
       "      <td>None</td>\n",
       "    </tr>\n",
       "    <tr>\n",
       "      <th>3</th>\n",
       "      <td>Efectivo y equivalentes al efectivo</td>\n",
       "      <td>814.874.990</td>\n",
       "      <td>1.216.193.920</td>\n",
       "      <td>-</td>\n",
       "    </tr>\n",
       "    <tr>\n",
       "      <th>4</th>\n",
       "      <td>Otros activos financieros corrientes</td>\n",
       "      <td>40.912.734</td>\n",
       "      <td>41.163.435</td>\n",
       "      <td>-</td>\n",
       "    </tr>\n",
       "    <tr>\n",
       "      <th>...</th>\n",
       "      <td>...</td>\n",
       "      <td>...</td>\n",
       "      <td>...</td>\n",
       "      <td>...</td>\n",
       "    </tr>\n",
       "    <tr>\n",
       "      <th>100</th>\n",
       "      <td>Otras reservas</td>\n",
       "      <td>-475.110.591</td>\n",
       "      <td>-407.289.735</td>\n",
       "      <td>-</td>\n",
       "    </tr>\n",
       "    <tr>\n",
       "      <th>101</th>\n",
       "      <td>Patrimonio atribuible a los propietarios de la...</td>\n",
       "      <td>5.238.476.641</td>\n",
       "      <td>5.021.739.662</td>\n",
       "      <td>-</td>\n",
       "    </tr>\n",
       "    <tr>\n",
       "      <th>102</th>\n",
       "      <td>Participaciones no controladoras</td>\n",
       "      <td>955.664.547</td>\n",
       "      <td>963.516.029</td>\n",
       "      <td>-</td>\n",
       "    </tr>\n",
       "    <tr>\n",
       "      <th>103</th>\n",
       "      <td>Patrimonio total</td>\n",
       "      <td>6.194.141.188</td>\n",
       "      <td>5.985.255.691</td>\n",
       "      <td>6.141.290.895</td>\n",
       "    </tr>\n",
       "    <tr>\n",
       "      <th>104</th>\n",
       "      <td>Total de patrimonio y pasivos</td>\n",
       "      <td>18.497.385.464</td>\n",
       "      <td>18.918.529.666</td>\n",
       "      <td>20.045.711.364</td>\n",
       "    </tr>\n",
       "  </tbody>\n",
       "</table>\n",
       "<p>105 rows × 4 columns</p>\n",
       "</div>"
      ],
      "text/plain": [
       "                                                     .      2021-06-30  \\\n",
       "0                                   Activos [sinopsis]            None   \n",
       "1                     Negocios no bancarios [sinopsis]            None   \n",
       "2                        Activos corrientes [sinopsis]            None   \n",
       "3                  Efectivo y equivalentes al efectivo     814.874.990   \n",
       "4                 Otros activos financieros corrientes      40.912.734   \n",
       "..                                                 ...             ...   \n",
       "100                                     Otras reservas    -475.110.591   \n",
       "101  Patrimonio atribuible a los propietarios de la...   5.238.476.641   \n",
       "102                   Participaciones no controladoras     955.664.547   \n",
       "103                                   Patrimonio total   6.194.141.188   \n",
       "104                      Total de patrimonio y pasivos  18.497.385.464   \n",
       "\n",
       "         2020-12-31      2020-06-30  \n",
       "0              None            None  \n",
       "1              None            None  \n",
       "2              None            None  \n",
       "3     1.216.193.920               -  \n",
       "4        41.163.435               -  \n",
       "..              ...             ...  \n",
       "100    -407.289.735               -  \n",
       "101   5.021.739.662               -  \n",
       "102     963.516.029               -  \n",
       "103   5.985.255.691   6.141.290.895  \n",
       "104  18.918.529.666  20.045.711.364  \n",
       "\n",
       "[105 rows x 4 columns]"
      ]
     },
     "execution_count": 9,
     "metadata": {},
     "output_type": "execute_result"
    }
   ],
   "source": [
    "df"
   ]
  },
  {
   "cell_type": "markdown",
   "id": "d718d389",
   "metadata": {
    "id": "d718d389"
   },
   "source": [
    "##  Tabla del Estado de Resultados"
   ]
  },
  {
   "cell_type": "code",
   "execution_count": 7,
   "id": "0568f7d7",
   "metadata": {
    "id": "0568f7d7"
   },
   "outputs": [],
   "source": [
    "tabla_eerr = driver.find_element(By.XPATH,\"//*[@id='ERF']/table\")\n",
    "filas_eerr =driver.find_elements(By.TAG_NAME, \"tr\")\n",
    "\n",
    "encabezados = []\n",
    "for encabezado in tabla_eerr.find_elements(By.TAG_NAME,'th'):\n",
    "    encabezados.append(encabezado.text)\n",
    "datos_eerr = []\n",
    "for fila in tabla_eerr.find_elements(By.TAG_NAME,'tr'):\n",
    "    fila_datos_eerr = []\n",
    "    for celda in fila.find_elements(By.TAG_NAME,'td'):\n",
    "        fila_datos_eerr.append(celda.text)\n",
    "    if fila_datos_eerr:\n",
    "        datos_eerr.append(fila_datos_eerr)\n",
    "df_eerr = pd.DataFrame(datos_eerr, columns=encabezados)\n",
    "\n",
    "#Con esto cerramos el dataframe\n",
    "driver.close()"
   ]
  },
  {
   "cell_type": "code",
   "execution_count": 8,
   "id": "6d50c920",
   "metadata": {},
   "outputs": [
    {
     "data": {
      "text/html": [
       "<div>\n",
       "<style scoped>\n",
       "    .dataframe tbody tr th:only-of-type {\n",
       "        vertical-align: middle;\n",
       "    }\n",
       "\n",
       "    .dataframe tbody tr th {\n",
       "        vertical-align: top;\n",
       "    }\n",
       "\n",
       "    .dataframe thead th {\n",
       "        text-align: right;\n",
       "    }\n",
       "</style>\n",
       "<table border=\"1\" class=\"dataframe\">\n",
       "  <thead>\n",
       "    <tr style=\"text-align: right;\">\n",
       "      <th></th>\n",
       "      <th>.</th>\n",
       "      <th>Desde 2021-01-01 Hasta 2021-06-30</th>\n",
       "      <th>Desde 2021-04-01 Hasta 2021-06-30</th>\n",
       "      <th>Desde 2020-01-01 Hasta 2020-06-30</th>\n",
       "      <th>Desde 2020-04-01 Hasta 2020-06-30</th>\n",
       "    </tr>\n",
       "  </thead>\n",
       "  <tbody>\n",
       "    <tr>\n",
       "      <th>0</th>\n",
       "      <td>Ganancia (pérdida) [sinopsis]</td>\n",
       "      <td>None</td>\n",
       "      <td>None</td>\n",
       "      <td>None</td>\n",
       "      <td>None</td>\n",
       "    </tr>\n",
       "    <tr>\n",
       "      <th>1</th>\n",
       "      <td>Negocios no bancarios [sinopsis]</td>\n",
       "      <td>None</td>\n",
       "      <td>None</td>\n",
       "      <td>None</td>\n",
       "      <td>None</td>\n",
       "    </tr>\n",
       "    <tr>\n",
       "      <th>2</th>\n",
       "      <td>Ingresos de actividades ordinarias</td>\n",
       "      <td>4.608.667.199</td>\n",
       "      <td>2.390.588.744</td>\n",
       "      <td>3.346.062.707</td>\n",
       "      <td>1.458.364.095</td>\n",
       "    </tr>\n",
       "    <tr>\n",
       "      <th>3</th>\n",
       "      <td>Costo de ventas</td>\n",
       "      <td>3.187.574.085</td>\n",
       "      <td>-</td>\n",
       "      <td>2.364.939.732</td>\n",
       "      <td>-</td>\n",
       "    </tr>\n",
       "    <tr>\n",
       "      <th>4</th>\n",
       "      <td>Ganancia bruta</td>\n",
       "      <td>1.421.093.114</td>\n",
       "      <td>-</td>\n",
       "      <td>981.122.975</td>\n",
       "      <td>-</td>\n",
       "    </tr>\n",
       "    <tr>\n",
       "      <th>...</th>\n",
       "      <td>...</td>\n",
       "      <td>...</td>\n",
       "      <td>...</td>\n",
       "      <td>...</td>\n",
       "      <td>...</td>\n",
       "    </tr>\n",
       "    <tr>\n",
       "      <th>63</th>\n",
       "      <td>Ganancia (pérdida) por acción básica</td>\n",
       "      <td>0,11</td>\n",
       "      <td>-</td>\n",
       "      <td>-0,04</td>\n",
       "      <td>-</td>\n",
       "    </tr>\n",
       "    <tr>\n",
       "      <th>64</th>\n",
       "      <td>Ganancias por acción diluidas [sinopsis]</td>\n",
       "      <td>None</td>\n",
       "      <td>None</td>\n",
       "      <td>None</td>\n",
       "      <td>None</td>\n",
       "    </tr>\n",
       "    <tr>\n",
       "      <th>65</th>\n",
       "      <td>Ganancias (pérdida) diluida por acción procede...</td>\n",
       "      <td>0,11</td>\n",
       "      <td>-</td>\n",
       "      <td>-0,04</td>\n",
       "      <td>-</td>\n",
       "    </tr>\n",
       "    <tr>\n",
       "      <th>66</th>\n",
       "      <td>Ganancias (pérdida) diluida por acción procede...</td>\n",
       "      <td>-</td>\n",
       "      <td>-</td>\n",
       "      <td>-</td>\n",
       "      <td>-</td>\n",
       "    </tr>\n",
       "    <tr>\n",
       "      <th>67</th>\n",
       "      <td>Ganancias (pérdida) diluida por acción</td>\n",
       "      <td>0,11</td>\n",
       "      <td>-</td>\n",
       "      <td>-0,04</td>\n",
       "      <td>-</td>\n",
       "    </tr>\n",
       "  </tbody>\n",
       "</table>\n",
       "<p>68 rows × 5 columns</p>\n",
       "</div>"
      ],
      "text/plain": [
       "                                                    .  \\\n",
       "0                       Ganancia (pérdida) [sinopsis]   \n",
       "1                    Negocios no bancarios [sinopsis]   \n",
       "2                  Ingresos de actividades ordinarias   \n",
       "3                                     Costo de ventas   \n",
       "4                                      Ganancia bruta   \n",
       "..                                                ...   \n",
       "63               Ganancia (pérdida) por acción básica   \n",
       "64           Ganancias por acción diluidas [sinopsis]   \n",
       "65  Ganancias (pérdida) diluida por acción procede...   \n",
       "66  Ganancias (pérdida) diluida por acción procede...   \n",
       "67             Ganancias (pérdida) diluida por acción   \n",
       "\n",
       "   Desde 2021-01-01 Hasta 2021-06-30 Desde 2021-04-01 Hasta 2021-06-30  \\\n",
       "0                               None                              None   \n",
       "1                               None                              None   \n",
       "2                      4.608.667.199                     2.390.588.744   \n",
       "3                      3.187.574.085                                 -   \n",
       "4                      1.421.093.114                                 -   \n",
       "..                               ...                               ...   \n",
       "63                              0,11                                 -   \n",
       "64                              None                              None   \n",
       "65                              0,11                                 -   \n",
       "66                                 -                                 -   \n",
       "67                              0,11                                 -   \n",
       "\n",
       "   Desde 2020-01-01 Hasta 2020-06-30 Desde 2020-04-01 Hasta 2020-06-30  \n",
       "0                               None                              None  \n",
       "1                               None                              None  \n",
       "2                      3.346.062.707                     1.458.364.095  \n",
       "3                      2.364.939.732                                 -  \n",
       "4                        981.122.975                                 -  \n",
       "..                               ...                               ...  \n",
       "63                             -0,04                                 -  \n",
       "64                              None                              None  \n",
       "65                             -0,04                                 -  \n",
       "66                                 -                                 -  \n",
       "67                             -0,04                                 -  \n",
       "\n",
       "[68 rows x 5 columns]"
      ]
     },
     "execution_count": 8,
     "metadata": {},
     "output_type": "execute_result"
    }
   ],
   "source": [
    "df_eerr"
   ]
  },
  {
   "cell_type": "markdown",
   "id": "ebe92c97",
   "metadata": {},
   "source": [
    "Ya generamos los DataFrame y ahora generamos nuestros Excel."
   ]
  },
  {
   "cell_type": "code",
   "execution_count": null,
   "id": "c3a1f128",
   "metadata": {
    "id": "c3a1f128"
   },
   "outputs": [],
   "source": [
    "Periodo = quarter[configurador[1]]\n",
    "año_periodo = año[configurador[0]]\n",
    "nombre_EF = \"Estados Financieros \" + año_periodo +\" \" + Periodo + \".xlsx\"\n",
    "nombre_ER = \"Estados de Resultados \" + año_periodo +\" \"+ Periodo + \".xlsx\"\n",
    "\n",
    "df.to_excel(ruta + \"/\" + nombre_EF)\n",
    "df_eerr.to_excel(ruta + \"/\" + nombre_ER)"
   ]
  }
 ],
 "metadata": {
  "colab": {
   "provenance": []
  },
  "kernelspec": {
   "display_name": "Python 3 (ipykernel)",
   "language": "python",
   "name": "python3"
  },
  "language_info": {
   "codemirror_mode": {
    "name": "ipython",
    "version": 3
   },
   "file_extension": ".py",
   "mimetype": "text/x-python",
   "name": "python",
   "nbconvert_exporter": "python",
   "pygments_lexer": "ipython3",
   "version": "3.10.9"
  }
 },
 "nbformat": 4,
 "nbformat_minor": 5
}
